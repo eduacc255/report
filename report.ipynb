{
 "cells": [
  {
   "cell_type": "markdown",
   "metadata": {},
   "source": [
    "# モジュールのインポート"
   ]
  },
  {
   "cell_type": "code",
   "execution_count": 1,
   "metadata": {},
   "outputs": [],
   "source": [
    "%matplotlib inline\n",
    "\n",
    "import matplotlib.pyplot as plt\n",
    "\n",
    "from tqdm import tqdm\n",
    "\n",
    "import numpy as np\n",
    "import pandas as pd\n",
    "\n",
    "import datetime\n",
    "import jpholiday\n",
    "\n",
    "import torch\n",
    "import torch.utils.data\n",
    "import torch.autograd as autograd\n",
    "import torch.nn as nn\n",
    "import torch.nn.functional as F\n",
    "import torch.optim as optim\n",
    "\n",
    "from sklearn.model_selection import train_test_split\n",
    "from sklearn import preprocessing\n",
    "\n",
    "from sklearn.ensemble import RandomForestRegressor as RFR\n",
    " \n",
    "from sklearn.model_selection import train_test_split, GridSearchCV\n",
    "from sklearn import svm\n",
    "from sklearn.decomposition import PCA\n",
    "from sklearn.kernel_ridge import KernelRidge\n",
    "\n",
    "import pickle"
   ]
  },
  {
   "cell_type": "markdown",
   "metadata": {},
   "source": [
    "# データの前処理"
   ]
  },
  {
   "cell_type": "code",
   "execution_count": 2,
   "metadata": {},
   "outputs": [
    {
     "name": "stderr",
     "output_type": "stream",
     "text": [
      "C:\\Users\\Toru\\Anaconda3\\envs\\tf_gpu\\lib\\site-packages\\ipykernel_launcher.py:12: FutureWarning: Sorting because non-concatenation axis is not aligned. A future version\n",
      "of pandas will change to not sort by default.\n",
      "\n",
      "To accept the future behavior, pass 'sort=False'.\n",
      "\n",
      "To retain the current behavior and silence the warning, pass 'sort=True'.\n",
      "\n",
      "  if sys.path[0] == '':\n"
     ]
    }
   ],
   "source": [
    "# 説明変数の数\n",
    "nfeat = 8\n",
    "\n",
    "# 生データの読み込み\n",
    "train_data = pd.read_csv(\"train.csv\")\n",
    "test_data = pd.read_csv(\"test.csv\")\n",
    "\n",
    "# numpy配列化\n",
    "Xmat = np.array(train_data)[:,:nfeat]\n",
    "ymat = np.array(train_data)[:,nfeat]\n",
    "\n",
    "all_data = pd.concat([train_data,test_data])\n",
    "meta = pd.get_dummies(all_data['weather']) \n",
    "\n",
    "Xmat = np.hstack([Xmat[:,:nfeat],meta.iloc[:len(train_data),:]]) #use four real-valued features and the dummy, and cast to float64 data type\n",
    "\n",
    "ymat = np.float64(ymat)"
   ]
  },
  {
   "cell_type": "code",
   "execution_count": 3,
   "metadata": {},
   "outputs": [
    {
     "name": "stdout",
     "output_type": "stream",
     "text": [
      "(37696, 19)\n"
     ]
    }
   ],
   "source": [
    "# データ整形\n",
    "X = Xmat.copy()\n",
    "y = ymat.copy()\n",
    "labels = np.empty((X.shape[0], 24))\n",
    "\n",
    "for i in range(Xmat.shape[0]):\n",
    "    # 8列目をdatetimeに変換\n",
    "    dt = datetime.datetime.strptime(Xmat[i,7], '%Y-%m-%d %H:%M:%S')\n",
    "    \n",
    "    # 祝日は1,そうでなければ0\n",
    "    X[i,0] = 0 if Xmat[i,0] == 'None' else 1\n",
    "    \n",
    "    X[i,5] = dt.month\n",
    "    X[i,6] = dt.day\n",
    "    X[i,7] = dt.hour\n",
    "print(X.shape)"
   ]
  },
  {
   "cell_type": "code",
   "execution_count": 4,
   "metadata": {},
   "outputs": [],
   "source": [
    "scaler = preprocessing.StandardScaler().fit(X)\n",
    "X = scaler.transform(X)\n",
    "X_train, X_valid, y_train, y_valid = train_test_split(X, y, test_size=0.1, random_state=0)"
   ]
  },
  {
   "cell_type": "markdown",
   "metadata": {},
   "source": [
    "# ニューラルネットワーク"
   ]
  },
  {
   "cell_type": "markdown",
   "metadata": {},
   "source": [
    "## モデル構築"
   ]
  },
  {
   "cell_type": "code",
   "execution_count": 5,
   "metadata": {},
   "outputs": [],
   "source": [
    "class Net(nn.Module):\n",
    "\n",
    "    def __init__(self, input_dim):\n",
    "        super(Net, self).__init__()\n",
    "        self.input_dim = input_dim\n",
    "        self.fc1 = nn.Linear(input_dim, 50)\n",
    "        self.bn1 = nn.BatchNorm1d(50)\n",
    "        self.fc2 = nn.Linear(50, 50)\n",
    "        self.bn2 = nn.BatchNorm1d(50)\n",
    "        self.fc3 = nn.Linear(50, 1)\n",
    "\n",
    "    def forward(self, x):\n",
    "        x = self.fc1(x)\n",
    "        x = self.bn1(x)\n",
    "        x = F.relu(x)\n",
    "        x = self.fc2(x)\n",
    "        x = self.bn2(x)\n",
    "        x = F.relu(x)\n",
    "        x = self.fc3(x)\n",
    "        return x"
   ]
  },
  {
   "cell_type": "code",
   "execution_count": 6,
   "metadata": {},
   "outputs": [],
   "source": [
    "# 訓練用\n",
    "input = torch.from_numpy(np.array(X_train, dtype=np.float64)).float()\n",
    "target = torch.from_numpy(np.array(y_train, dtype=np.float64)).float()\n",
    "train = torch.utils.data.TensorDataset(input, target)\n",
    "train_loader = torch.utils.data.DataLoader(train, batch_size=10**4, shuffle=True)\n",
    "\n",
    "# 検証用\n",
    "input = torch.from_numpy(np.array(X_valid, dtype=np.float64)).float()\n",
    "target = torch.from_numpy(np.array(y_valid, dtype=np.float64)).float()\n",
    "valid = torch.utils.data.TensorDataset(input, target)\n",
    "valid_loader = torch.utils.data.DataLoader(valid, batch_size=10**4, shuffle=True)"
   ]
  },
  {
   "cell_type": "code",
   "execution_count": 7,
   "metadata": {
    "scrolled": true
   },
   "outputs": [
    {
     "data": {
      "text/plain": [
       "Net(\n",
       "  (fc1): Linear(in_features=19, out_features=50, bias=True)\n",
       "  (bn1): BatchNorm1d(50, eps=1e-05, momentum=0.1, affine=True, track_running_stats=True)\n",
       "  (fc2): Linear(in_features=50, out_features=50, bias=True)\n",
       "  (bn2): BatchNorm1d(50, eps=1e-05, momentum=0.1, affine=True, track_running_stats=True)\n",
       "  (fc3): Linear(in_features=50, out_features=1, bias=True)\n",
       ")"
      ]
     },
     "execution_count": 7,
     "metadata": {},
     "output_type": "execute_result"
    }
   ],
   "source": [
    "net = Net(X.shape[-1])\n",
    "net.train()"
   ]
  },
  {
   "cell_type": "code",
   "execution_count": 8,
   "metadata": {},
   "outputs": [],
   "source": [
    "criterion = nn.MSELoss()\n",
    "optimizer = optim.Adam(net.parameters(), lr=0.03)"
   ]
  },
  {
   "cell_type": "markdown",
   "metadata": {},
   "source": [
    "## 学習"
   ]
  },
  {
   "cell_type": "code",
   "execution_count": 9,
   "metadata": {},
   "outputs": [
    {
     "data": {
      "text/plain": [
       "'\\n# GPUが使えるかを確認\\ndevice = torch.device(\"cuda:0\" if torch.cuda.is_available() else \"cpu\")\\nprint(\"使用デバイス：\", device)\\n\\n# ネットワークをGPUへ\\nnet.to(device)\\n\\n# ネットワークがある程度固定であれば、高速化させる\\ntorch.backends.cudnn.benchmark = True\\n\\nnum_epoch = 200\\nfor i in range(num_epoch):\\n    for input_train, target_train in tqdm(train_loader):\\n        # GPUが使えるならGPUにデータを送る\\n        input_train = input_train.to(device)\\n        target_train = target_train.to(device)\\n        optimizer.zero_grad() #勾配の初期化\\n        output = net(input_train) #アウトプットの生成\\n        loss = criterion(output, target_train) #loss関数\\n        loss.backward() \\n        optimizer.step()\\n    if i%10==0:\\n        net.eval()\\n        loss_valid = []\\n        for input_valid, target_valid in tqdm(valid_loader):\\n            # GPUが使えるならGPUにデータを送る\\n            input_valid = input_valid.to(device)\\n            target_valid = target_valid.to(device)\\n            output = net(input_valid)\\n            loss_valid.append(criterion(output, target_valid).item())\\n        print(\"epoch: {}, train loss: {}, valid loss: {}\".format(i, loss, sum(loss_valid)/len(loss_valid)))\\n        net.train()\\n'"
      ]
     },
     "execution_count": 9,
     "metadata": {},
     "output_type": "execute_result"
    }
   ],
   "source": [
    "\"\"\"\n",
    "# GPUが使えるかを確認\n",
    "device = torch.device(\"cuda:0\" if torch.cuda.is_available() else \"cpu\")\n",
    "print(\"使用デバイス：\", device)\n",
    "\n",
    "# ネットワークをGPUへ\n",
    "net.to(device)\n",
    "\n",
    "# ネットワークがある程度固定であれば、高速化させる\n",
    "torch.backends.cudnn.benchmark = True\n",
    "\n",
    "num_epoch = 200\n",
    "for i in range(num_epoch):\n",
    "    for input_train, target_train in tqdm(train_loader):\n",
    "        # GPUが使えるならGPUにデータを送る\n",
    "        input_train = input_train.to(device)\n",
    "        target_train = target_train.to(device)\n",
    "        optimizer.zero_grad() #勾配の初期化\n",
    "        output = net(input_train) #アウトプットの生成\n",
    "        loss = criterion(output, target_train) #loss関数\n",
    "        loss.backward() \n",
    "        optimizer.step()\n",
    "    if i%10==0:\n",
    "        net.eval()\n",
    "        loss_valid = []\n",
    "        for input_valid, target_valid in tqdm(valid_loader):\n",
    "            # GPUが使えるならGPUにデータを送る\n",
    "            input_valid = input_valid.to(device)\n",
    "            target_valid = target_valid.to(device)\n",
    "            output = net(input_valid)\n",
    "            loss_valid.append(criterion(output, target_valid).item())\n",
    "        print(\"epoch: {}, train loss: {}, valid loss: {}\".format(i, loss, sum(loss_valid)/len(loss_valid)))\n",
    "        net.train()\n",
    "\"\"\""
   ]
  },
  {
   "cell_type": "markdown",
   "metadata": {},
   "source": [
    "## モデルの保存 "
   ]
  },
  {
   "cell_type": "code",
   "execution_count": 10,
   "metadata": {},
   "outputs": [],
   "source": [
    "# torch.save(net.state_dict(), \"weight.h\")"
   ]
  },
  {
   "cell_type": "markdown",
   "metadata": {},
   "source": [
    "## 予測"
   ]
  },
  {
   "cell_type": "code",
   "execution_count": 11,
   "metadata": {},
   "outputs": [
    {
     "name": "stdout",
     "output_type": "stream",
     "text": [
      "使用デバイス： cuda:0\n"
     ]
    },
    {
     "name": "stderr",
     "output_type": "stream",
     "text": [
      "  0%|          | 0/1 [00:00<?, ?it/s]C:\\Users\\Toru\\Anaconda3\\envs\\tf_gpu\\lib\\site-packages\\torch\\nn\\modules\\loss.py:443: UserWarning: Using a target size (torch.Size([3770])) that is different to the input size (torch.Size([3770, 1])). This will likely lead to incorrect results due to broadcasting. Please ensure they have the same size.\n",
      "  return F.mse_loss(input, target, reduction=self.reduction)\n",
      "100%|██████████| 1/1 [00:02<00:00,  2.04s/it]\n"
     ]
    },
    {
     "name": "stdout",
     "output_type": "stream",
     "text": [
      "RMSE: 1966.602082272873\n"
     ]
    }
   ],
   "source": [
    "# モデルのロード\n",
    "net = Net(X.shape[-1])\n",
    "net.eval()\n",
    "param = torch.load('weight.h')\n",
    "net.load_state_dict(param)\n",
    "\n",
    "# GPUが使えるかを確認\n",
    "device = torch.device(\"cuda:0\" if torch.cuda.is_available() else \"cpu\")\n",
    "print(\"使用デバイス：\", device)\n",
    "\n",
    "# ネットワークをGPUへ\n",
    "net.to(device)\n",
    "\n",
    "# ネットワークがある程度固定であれば、高速化させる\n",
    "torch.backends.cudnn.benchmark = True\n",
    "\n",
    "loss_valid = []\n",
    "for input_valid, target_valid in tqdm(valid_loader):\n",
    "    # GPUが使えるならGPUにデータを送る\n",
    "    input_valid = input_valid.to(device)\n",
    "    target_valid = target_valid.to(device)\n",
    "    output = net(input_valid)\n",
    "    loss_valid.append(criterion(output, target_valid).item())\n",
    "RMSE = (sum(loss_valid)/len(loss_valid))**0.5\n",
    "print(\"RMSE:\",RMSE)    "
   ]
  },
  {
   "cell_type": "markdown",
   "metadata": {},
   "source": [
    "# カーネル回帰"
   ]
  },
  {
   "cell_type": "code",
   "execution_count": 12,
   "metadata": {},
   "outputs": [
    {
     "data": {
      "text/plain": [
       "\"\\nclf = KernelRidge(alpha=1.0, kernel='rbf')\\nclf.fit(X_train, y_train)\\n\""
      ]
     },
     "execution_count": 12,
     "metadata": {},
     "output_type": "execute_result"
    }
   ],
   "source": [
    "\"\"\"\n",
    "clf = KernelRidge(alpha=1.0, kernel='rbf')\n",
    "clf.fit(X_train, y_train)\n",
    "\"\"\""
   ]
  },
  {
   "cell_type": "code",
   "execution_count": 13,
   "metadata": {},
   "outputs": [],
   "source": [
    "clf = pickle.load(open(\"kr.h\", 'rb'))"
   ]
  },
  {
   "cell_type": "code",
   "execution_count": 14,
   "metadata": {},
   "outputs": [
    {
     "name": "stdout",
     "output_type": "stream",
     "text": [
      "RMSE: 1128.4736186061675\n"
     ]
    }
   ],
   "source": [
    "pred = clf.predict(X_valid)\n",
    "RMSE = np.sqrt(((pred - y_valid)**2).mean())\n",
    "print(\"RMSE:\",RMSE)"
   ]
  },
  {
   "cell_type": "markdown",
   "metadata": {},
   "source": [
    "# SVR"
   ]
  },
  {
   "cell_type": "code",
   "execution_count": 15,
   "metadata": {},
   "outputs": [
    {
     "data": {
      "text/plain": [
       "\"\\nclf_svr = svm.SVR(kernel='rbf', C=1e3, gamma=0.1, epsilon=0.1)\\nclf_svr.fit(X_train, y_train)\\n\""
      ]
     },
     "execution_count": 15,
     "metadata": {},
     "output_type": "execute_result"
    }
   ],
   "source": [
    "\"\"\"\n",
    "clf_svr = svm.SVR(kernel='rbf', C=1e3, gamma=0.1, epsilon=0.1)\n",
    "clf_svr.fit(X_train, y_train)\n",
    "\"\"\""
   ]
  },
  {
   "cell_type": "code",
   "execution_count": 16,
   "metadata": {},
   "outputs": [],
   "source": [
    "clf_svr = pickle.load(open(\"svr.h\", 'rb'))"
   ]
  },
  {
   "cell_type": "code",
   "execution_count": 17,
   "metadata": {},
   "outputs": [
    {
     "name": "stdout",
     "output_type": "stream",
     "text": [
      "RMSE: 1121.0568363841385\n"
     ]
    }
   ],
   "source": [
    "pred = clf_svr.predict(X_valid)\n",
    "RMSE = np.sqrt(((pred - y_valid)**2).mean())\n",
    "print(\"RMSE:\",RMSE)"
   ]
  },
  {
   "cell_type": "markdown",
   "metadata": {},
   "source": [
    "# ランダムフォレスト"
   ]
  },
  {
   "cell_type": "code",
   "execution_count": 18,
   "metadata": {},
   "outputs": [
    {
     "name": "stderr",
     "output_type": "stream",
     "text": [
      "C:\\Users\\Toru\\Anaconda3\\envs\\tf_gpu\\lib\\site-packages\\sklearn\\ensemble\\forest.py:245: FutureWarning: The default value of n_estimators will change from 10 in version 0.20 to 100 in 0.22.\n",
      "  \"10 in version 0.20 to 100 in 0.22.\", FutureWarning)\n"
     ]
    },
    {
     "data": {
      "text/plain": [
       "RandomForestRegressor(bootstrap=True, criterion='mse', max_depth=None,\n",
       "                      max_features='auto', max_leaf_nodes=None,\n",
       "                      min_impurity_decrease=0.0, min_impurity_split=None,\n",
       "                      min_samples_leaf=1, min_samples_split=2,\n",
       "                      min_weight_fraction_leaf=0.0, n_estimators=10, n_jobs=-1,\n",
       "                      oob_score=False, random_state=2525, verbose=0,\n",
       "                      warm_start=False)"
      ]
     },
     "execution_count": 18,
     "metadata": {},
     "output_type": "execute_result"
    }
   ],
   "source": [
    "rg = RFR(n_jobs=-1, random_state=2525)\n",
    " \n",
    "rg.fit(X_train, y_train)"
   ]
  },
  {
   "cell_type": "code",
   "execution_count": 19,
   "metadata": {
    "scrolled": true
   },
   "outputs": [
    {
     "name": "stdout",
     "output_type": "stream",
     "text": [
      "866.8352424245395\n"
     ]
    }
   ],
   "source": [
    "pred = rg.predict(X_valid)\n",
    "RMSE = np.sqrt(((pred - y_valid)**2).mean())\n",
    "print(RMSE)"
   ]
  },
  {
   "cell_type": "markdown",
   "metadata": {},
   "source": [
    "## グリッドサーチ"
   ]
  },
  {
   "cell_type": "code",
   "execution_count": 20,
   "metadata": {
    "scrolled": true
   },
   "outputs": [
    {
     "data": {
      "text/plain": [
       "\"\\nsearch_params = {\\n    'n_estimators'      : [10, 50, 100],\\n    'max_features'      : [i for i in range(1,X_train.shape[1])],\\n    'random_state'      : [2525],\\n    'n_jobs'            : [1],\\n    'min_samples_split' : [10, 30, 50, 100],\\n    'max_depth'         : [10, 30, 50, 100]\\n}\\n \\ngsr = GridSearchCV(\\n    RFR(),\\n    search_params,\\n    cv = 3,\\n    n_jobs = -1,\\n    verbose=True\\n)\\n \\ngsr.fit(X_train, y_train)\\n\""
      ]
     },
     "execution_count": 20,
     "metadata": {},
     "output_type": "execute_result"
    }
   ],
   "source": [
    "\"\"\"\n",
    "search_params = {\n",
    "    'n_estimators'      : [10, 50, 100],\n",
    "    'max_features'      : [i for i in range(1,X_train.shape[1])],\n",
    "    'random_state'      : [2525],\n",
    "    'n_jobs'            : [1],\n",
    "    'min_samples_split' : [10, 30, 50, 100],\n",
    "    'max_depth'         : [10, 30, 50, 100]\n",
    "}\n",
    " \n",
    "gsr = GridSearchCV(\n",
    "    RFR(),\n",
    "    search_params,\n",
    "    cv = 3,\n",
    "    n_jobs = -1,\n",
    "    verbose=True\n",
    ")\n",
    " \n",
    "gsr.fit(X_train, y_train)\n",
    "\"\"\""
   ]
  },
  {
   "cell_type": "code",
   "execution_count": 21,
   "metadata": {},
   "outputs": [],
   "source": [
    "gsr = pickle.load(open(\"rfr.h\", 'rb'))"
   ]
  },
  {
   "cell_type": "code",
   "execution_count": 22,
   "metadata": {},
   "outputs": [
    {
     "name": "stdout",
     "output_type": "stream",
     "text": [
      "RMSE: 822.2745335155589\n"
     ]
    }
   ],
   "source": [
    "rg = gsr.best_estimator_\n",
    "pred = rg.predict(X_valid)\n",
    "RMSE = np.sqrt(((pred - y_valid)**2).mean())\n",
    "print(\"RMSE:\",RMSE)"
   ]
  },
  {
   "cell_type": "markdown",
   "metadata": {},
   "source": [
    "# 考察"
   ]
  },
  {
   "cell_type": "code",
   "execution_count": 23,
   "metadata": {},
   "outputs": [
    {
     "name": "stderr",
     "output_type": "stream",
     "text": [
      "C:\\Users\\Toru\\Anaconda3\\envs\\tf_gpu\\lib\\site-packages\\sklearn\\ensemble\\forest.py:245: FutureWarning: The default value of n_estimators will change from 10 in version 0.20 to 100 in 0.22.\n",
      "  \"10 in version 0.20 to 100 in 0.22.\", FutureWarning)\n"
     ]
    },
    {
     "name": "stdout",
     "output_type": "stream",
     "text": [
      "[('weather', 853.5717007074451), ('snow_in_hour', 860.7132309534511), ('holiday', 863.5621476985116), ('clouds_cover', 872.2250712411947), ('rain_in_hour', 875.807274081207), ('month', 899.2219499794479), ('day', 945.4113151440395), ('temperature', 1002.5083976793011), ('hour', 1645.67932426515)]\n"
     ]
    }
   ],
   "source": [
    "rg = RFR(n_jobs=-1, random_state=2525)\n",
    "columns = [\"holiday\", \"temperature\", \"rain_in_hour\", \"snow_in_hour\", \"clouds_cover\", \"month\", \"day\", \"hour\", \"weather\"]\n",
    "results = {}\n",
    "for i in range(9):\n",
    "    if i != 8:\n",
    "        X_train_cut = np.delete(X_train, i, 1)\n",
    "        X_valid_cut = np.delete(X_valid, i, 1)\n",
    "    else:\n",
    "        X_train_cut = np.delete(X_train, [i for i in range(8,19)], 1)\n",
    "        X_valid_cut = np.delete(X_valid, [i for i in range(8,19)], 1)\n",
    "    rg.fit(X_train_cut, y_train)\n",
    "    pred = rg.predict(X_valid_cut)\n",
    "    RMSE = np.sqrt(((pred - y_valid)**2).mean())\n",
    "    results[columns[i]] = RMSE\n",
    "print(sorted(results.items(), key=lambda x:x[1]))"
   ]
  }
 ],
 "metadata": {
  "kernelspec": {
   "display_name": "Python 3",
   "language": "python",
   "name": "python3"
  },
  "language_info": {
   "codemirror_mode": {
    "name": "ipython",
    "version": 3
   },
   "file_extension": ".py",
   "mimetype": "text/x-python",
   "name": "python",
   "nbconvert_exporter": "python",
   "pygments_lexer": "ipython3",
   "version": "3.7.3"
  }
 },
 "nbformat": 4,
 "nbformat_minor": 2
}
